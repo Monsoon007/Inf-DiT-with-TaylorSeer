{
 "cells": [
  {
   "cell_type": "code",
   "id": "initial_id",
   "metadata": {
    "collapsed": true,
    "ExecuteTime": {
     "end_time": "2025-03-29T09:09:18.435095Z",
     "start_time": "2025-03-29T09:09:18.089007Z"
    }
   },
   "source": [
    "# ✅ 基础导入\n",
    "import torch\n",
    "from torchvision.transforms import Resize\n",
    "from torchvision.transforms.functional import InterpolationMode\n",
    "\n",
    "import sys\n",
    "sys.path.append(\".\")  # 添加当前路径，或指定完整路径\n",
    "\n",
    "# ✅ 正确导入 get_model 和 DiffusionEngine\n",
    "from generate_t2i_sr import get_args\n",
    "from sat.model.base_model import get_model\n",
    "from dit.model import DiffusionEngine\n",
    "\n",
    "# ✅ 获取 args 并设置必要参数\n",
    "args = get_args([])  # 传入空参数，模拟不使用 CLI\n",
    "# args = get_args([])\n",
    "\n",
    "# ✅ 手动补齐 DiffusionEngine 需要的字段\n",
    "args.image_size = 256\n",
    "args.input_size = 256\n",
    "args.patch_size = 4\n",
    "args.image_block_size = 128\n",
    "args.in_channels = 6\n",
    "args.out_channels = 3\n",
    "args.scale_factor = 4\n",
    "args.clip_img_dim = 1024\n",
    "args.time_embed_dim = 1280\n",
    "args.input_time = True\n",
    "args.is_decoder = False\n",
    "args.no_crossmask = False\n",
    "args.use_fp16 = False\n",
    "\n",
    "# ✅ 模型路径 & 模式\n",
    "args.network = 'ckpt/mp_rank_00_model_states.pt'\n",
    "args.inference_type = 'full'\n",
    "args.device = 'cuda' if torch.cuda.is_available() else 'cpu'\n",
    "\n",
    "# ✅ 构建模型 & 加载权重\n",
    "net = get_model(args, DiffusionEngine).to(args.device).eval()\n",
    "ckpt = torch.load(args.network, map_location=args.device)\n",
    "net.load_state_dict(ckpt, strict=False)\n"
   ],
   "outputs": [
    {
     "name": "stderr",
     "output_type": "stream",
     "text": [
      "[2025-03-29 17:09:18,096] [WARNING] [RANK 0] No training data specified\n",
      "[2025-03-29 17:09:18,098] [WARNING] [RANK 0] No train_iters (recommended) or epochs specified, use default 10k iters.\n",
      "[2025-03-29 17:09:18,099] [INFO] [RANK 0] using world size: 1 and model-parallel size: 1 \n",
      "[2025-03-29 17:09:18,099] [INFO] [RANK 0] > padded vocab (size: 100) with 28 dummy tokens (new size: 128)\n"
     ]
    },
    {
     "name": "stdout",
     "output_type": "stream",
     "text": [
      "[2025-03-29 17:09:18,101] [INFO] [checkpointing.py:229:model_parallel_cuda_manual_seed] > initializing model parallel cuda seeds on global rank 0, model parallel rank 0, and data parallel rank 0 with model parallel seed: 3952 and data parallel seed: 1234\n"
     ]
    },
    {
     "name": "stderr",
     "output_type": "stream",
     "text": [
      "[2025-03-29 17:09:18,102] [INFO] [RANK 0] building DiffusionEngine model ...\n"
     ]
    },
    {
     "ename": "AttributeError",
     "evalue": "'Namespace' object has no attribute 'stop_grad_patch_embed'",
     "output_type": "error",
     "traceback": [
      "\u001B[31m---------------------------------------------------------------------------\u001B[39m",
      "\u001B[31mAttributeError\u001B[39m                            Traceback (most recent call last)",
      "\u001B[36mCell\u001B[39m\u001B[36m \u001B[39m\u001B[32mIn[4]\u001B[39m\u001B[32m, line 39\u001B[39m\n\u001B[32m     36\u001B[39m args.device = \u001B[33m'\u001B[39m\u001B[33mcuda\u001B[39m\u001B[33m'\u001B[39m \u001B[38;5;28;01mif\u001B[39;00m torch.cuda.is_available() \u001B[38;5;28;01melse\u001B[39;00m \u001B[33m'\u001B[39m\u001B[33mcpu\u001B[39m\u001B[33m'\u001B[39m\n\u001B[32m     38\u001B[39m \u001B[38;5;66;03m# ✅ 构建模型 & 加载权重\u001B[39;00m\n\u001B[32m---> \u001B[39m\u001B[32m39\u001B[39m net = \u001B[43mget_model\u001B[49m\u001B[43m(\u001B[49m\u001B[43margs\u001B[49m\u001B[43m,\u001B[49m\u001B[43m \u001B[49m\u001B[43mDiffusionEngine\u001B[49m\u001B[43m)\u001B[49m.to(args.device).eval()\n\u001B[32m     40\u001B[39m ckpt = torch.load(args.network, map_location=args.device)\n\u001B[32m     41\u001B[39m net.load_state_dict(ckpt, strict=\u001B[38;5;28;01mFalse\u001B[39;00m)\n",
      "\u001B[36mFile \u001B[39m\u001B[32m~/miniconda3/envs/DiT/lib/python3.12/site-packages/sat/model/base_model.py:420\u001B[39m, in \u001B[36mget_model\u001B[39m\u001B[34m(args, model_cls, **kwargs)\u001B[39m\n\u001B[32m    418\u001B[39m         model = model_cls(args, params_dtype=params_dtype, **kwargs)\n\u001B[32m    419\u001B[39m \u001B[38;5;28;01melse\u001B[39;00m:\n\u001B[32m--> \u001B[39m\u001B[32m420\u001B[39m     model = \u001B[43mmodel_cls\u001B[49m\u001B[43m(\u001B[49m\u001B[43margs\u001B[49m\u001B[43m,\u001B[49m\u001B[43m \u001B[49m\u001B[43mparams_dtype\u001B[49m\u001B[43m=\u001B[49m\u001B[43mparams_dtype\u001B[49m\u001B[43m,\u001B[49m\u001B[43m \u001B[49m\u001B[43m*\u001B[49m\u001B[43m*\u001B[49m\u001B[43mkwargs\u001B[49m\u001B[43m)\u001B[49m\n\u001B[32m    422\u001B[39m \u001B[38;5;28;01mif\u001B[39;00m mpu.get_data_parallel_rank() == \u001B[32m0\u001B[39m:\n\u001B[32m    423\u001B[39m     print_all(\u001B[33m'\u001B[39m\u001B[33m > number of parameters on model parallel rank \u001B[39m\u001B[38;5;132;01m{}\u001B[39;00m\u001B[33m: \u001B[39m\u001B[38;5;132;01m{}\u001B[39;00m\u001B[33m'\u001B[39m.format(\n\u001B[32m    424\u001B[39m         mpu.get_model_parallel_rank(),\n\u001B[32m    425\u001B[39m         \u001B[38;5;28msum\u001B[39m([p.nelement() \u001B[38;5;28;01mfor\u001B[39;00m p \u001B[38;5;129;01min\u001B[39;00m model.parameters()])), flush=\u001B[38;5;28;01mTrue\u001B[39;00m)\n",
      "\u001B[36mFile \u001B[39m\u001B[32m~/Inf-DiT-with-TaylorSeer/dit/model.py:452\u001B[39m, in \u001B[36mDiffusionEngine.__init__\u001B[39m\u001B[34m(self, args, transformer, parallel_output, **kwargs)\u001B[39m\n\u001B[32m    450\u001B[39m \u001B[38;5;28mself\u001B[39m.is_decoder = args.is_decoder\n\u001B[32m    451\u001B[39m \u001B[38;5;28mself\u001B[39m.no_crossmask = args.no_crossmask\n\u001B[32m--> \u001B[39m\u001B[32m452\u001B[39m \u001B[38;5;28mself\u001B[39m.stop_grad_patch_embed = \u001B[43margs\u001B[49m\u001B[43m.\u001B[49m\u001B[43mstop_grad_patch_embed\u001B[49m\n\u001B[32m    453\u001B[39m \u001B[38;5;28mself\u001B[39m.sr_scale = args.sr_scale\n\u001B[32m    454\u001B[39m \u001B[38;5;28mself\u001B[39m.random_position = args.random_position\n",
      "\u001B[31mAttributeError\u001B[39m: 'Namespace' object has no attribute 'stop_grad_patch_embed'"
     ]
    }
   ],
   "execution_count": 4
  },
  {
   "metadata": {},
   "cell_type": "code",
   "outputs": [],
   "execution_count": null,
   "source": [
    "# 🧪 构造模拟输入：低分辨率图像 + 上采样图 + 噪声图\n",
    "B, C, H, W = 1, 3, 64, 64\n",
    "scale = 4\n",
    "HR_H, HR_W = H * scale, W * scale\n",
    "device = args.device\n",
    "\n",
    "lr_img = torch.randn(B, C, H, W).to(torch.float32).to(device)\n",
    "upsampled_img = Resize((HR_H, HR_W), interpolation=InterpolationMode.BICUBIC)(lr_img)\n",
    "noisy_img = torch.randn(B, C, HR_H, HR_W).to(torch.float32).to(device)\n",
    "concat_img = torch.cat([upsampled_img, noisy_img], dim=1)  # [B, 6, HR_H, HR_W]\n",
    "sigmas = torch.ones(B).to(device) * 1.0\n"
   ],
   "id": "dff3ac267d1d69ac"
  },
  {
   "metadata": {},
   "cell_type": "code",
   "outputs": [],
   "execution_count": null,
   "source": [
    "# 🔎 patchify 前向测试\n",
    "with torch.no_grad():\n",
    "    patches = net.patchify(concat_img)\n",
    "    print(f\"[patchify output shape] = {patches.shape}\")\n"
   ],
   "id": "ca164d3e62c85354"
  },
  {
   "metadata": {},
   "cell_type": "code",
   "outputs": [],
   "execution_count": null,
   "source": [
    "# 🧠 注册所有 attention 层 hook，打印输出 shape\n",
    "def make_hook(name):\n",
    "    def hook(module, input, output):\n",
    "        print(f\"[Hook] {name} output shape: {output.shape}\")\n",
    "    return hook\n",
    "\n",
    "for i, layer in enumerate(net.transformer.layers):\n",
    "    if hasattr(layer, 'attn'):\n",
    "        layer.attn.register_forward_hook(make_hook(f\"Layer-{i}-Attn\"))\n"
   ],
   "id": "c030e146e6fb2e92"
  },
  {
   "metadata": {},
   "cell_type": "code",
   "outputs": [],
   "execution_count": null,
   "source": [
    "# 🚀 执行一次 model_forward（前向传播）\n",
    "with torch.no_grad():\n",
    "    out = net.model_forward(\n",
    "        images=concat_img,\n",
    "        lr_imgs=lr_img,\n",
    "        sigmas=sigmas,\n",
    "        input_ids=None, position_ids=None, attention_mask=None\n",
    "    )\n",
    "    print(f\"[Final output shape] = {out.shape}\")\n"
   ],
   "id": "4590014b27bb397a"
  },
  {
   "metadata": {},
   "cell_type": "code",
   "outputs": [],
   "execution_count": null,
   "source": [
    "# 🏗️ 打印 Transformer 主体结构（层级）\n",
    "print(net.transformer)\n"
   ],
   "id": "7c813fdbd33a9196"
  },
  {
   "metadata": {},
   "cell_type": "code",
   "outputs": [],
   "execution_count": null,
   "source": [
    "# 🔍 选择第 0 层 Attention 结构展开看\n",
    "print(net.transformer.layers[0].attn)\n"
   ],
   "id": "dd963d8f084879d9"
  }
 ],
 "metadata": {
  "kernelspec": {
   "display_name": "Python 3",
   "language": "python",
   "name": "python3"
  },
  "language_info": {
   "codemirror_mode": {
    "name": "ipython",
    "version": 2
   },
   "file_extension": ".py",
   "mimetype": "text/x-python",
   "name": "python",
   "nbconvert_exporter": "python",
   "pygments_lexer": "ipython2",
   "version": "2.7.6"
  }
 },
 "nbformat": 4,
 "nbformat_minor": 5
}
