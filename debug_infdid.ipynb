{
 "cells": [
  {
   "cell_type": "code",
   "id": "initial_id",
   "metadata": {
    "collapsed": true,
    "ExecuteTime": {
     "end_time": "2025-03-28T19:01:42.058094Z",
     "start_time": "2025-03-28T19:01:41.959247Z"
    }
   },
   "source": [
    "# ✅ 基础导入\n",
    "import torch\n",
    "from torchvision.transforms import Resize\n",
    "from torchvision.transforms.functional import InterpolationMode\n",
    "\n",
    "# ✅ 项目路径导入\n",
    "import sys\n",
    "sys.path.append(\".\")  # 确保当前路径下可以导入本地模块\n",
    "\n",
    "# ✅ 从原文件复用\n",
    "from generate_t2i_sr import get_args\n",
    "from dit.model import get_model, DiffusionEngine\n",
    "\n",
    "# ✅ 获取默认 CLI 参数并手动设置部分值（覆盖命令行）\n",
    "args = get_args()\n",
    "args.network = 'ckpt/mp_rank_00_model_states.pt'\n",
    "args.inference_type = 'full'\n",
    "args.device = 'cuda' if torch.cuda.is_available() else 'cpu'\n",
    "\n",
    "# ✅ 构建模型并加载权重\n",
    "net = get_model(args, DiffusionEngine).to(args.device).eval()\n",
    "ckpt = torch.load(args.network, map_location=args.device)\n",
    "net.load_state_dict(ckpt, strict=False)\n",
    "print(\"✅ 模型构建 & 权重加载完成\")\n"
   ],
   "outputs": [
    {
     "ename": "ImportError",
     "evalue": "cannot import name 'get_model' from 'dit.model' (/root/Inf-DiT-with-TaylorSeer/dit/model.py)",
     "output_type": "error",
     "traceback": [
      "\u001B[31m---------------------------------------------------------------------------\u001B[39m",
      "\u001B[31mImportError\u001B[39m                               Traceback (most recent call last)",
      "\u001B[36mCell\u001B[39m\u001B[36m \u001B[39m\u001B[32mIn[6]\u001B[39m\u001B[32m, line 12\u001B[39m\n\u001B[32m     10\u001B[39m \u001B[38;5;66;03m# ✅ 从原文件复用\u001B[39;00m\n\u001B[32m     11\u001B[39m \u001B[38;5;28;01mfrom\u001B[39;00m\u001B[38;5;250m \u001B[39m\u001B[34;01mgenerate_t2i_sr\u001B[39;00m\u001B[38;5;250m \u001B[39m\u001B[38;5;28;01mimport\u001B[39;00m get_args\n\u001B[32m---> \u001B[39m\u001B[32m12\u001B[39m \u001B[38;5;28;01mfrom\u001B[39;00m\u001B[38;5;250m \u001B[39m\u001B[34;01mdit\u001B[39;00m\u001B[34;01m.\u001B[39;00m\u001B[34;01mmodel\u001B[39;00m\u001B[38;5;250m \u001B[39m\u001B[38;5;28;01mimport\u001B[39;00m get_model, DiffusionEngine\n\u001B[32m     14\u001B[39m \u001B[38;5;66;03m# ✅ 获取默认 CLI 参数并手动设置部分值（覆盖命令行）\u001B[39;00m\n\u001B[32m     15\u001B[39m args = get_args()\n",
      "\u001B[31mImportError\u001B[39m: cannot import name 'get_model' from 'dit.model' (/root/Inf-DiT-with-TaylorSeer/dit/model.py)"
     ]
    }
   ],
   "execution_count": 6
  },
  {
   "metadata": {},
   "cell_type": "code",
   "outputs": [],
   "execution_count": null,
   "source": [
    "# 🧪 构造模拟输入：低分辨率图像 + 上采样图 + 噪声图\n",
    "B, C, H, W = 1, 3, 64, 64\n",
    "scale = 4\n",
    "HR_H, HR_W = H * scale, W * scale\n",
    "device = args.device\n",
    "\n",
    "lr_img = torch.randn(B, C, H, W).to(torch.float32).to(device)\n",
    "upsampled_img = Resize((HR_H, HR_W), interpolation=InterpolationMode.BICUBIC)(lr_img)\n",
    "noisy_img = torch.randn(B, C, HR_H, HR_W).to(torch.float32).to(device)\n",
    "concat_img = torch.cat([upsampled_img, noisy_img], dim=1)  # [B, 6, HR_H, HR_W]\n",
    "sigmas = torch.ones(B).to(device) * 1.0\n"
   ],
   "id": "dff3ac267d1d69ac"
  },
  {
   "metadata": {},
   "cell_type": "code",
   "outputs": [],
   "execution_count": null,
   "source": [
    "# 🔎 patchify 前向测试\n",
    "with torch.no_grad():\n",
    "    patches = net.patchify(concat_img)\n",
    "    print(f\"[patchify output shape] = {patches.shape}\")\n"
   ],
   "id": "ca164d3e62c85354"
  },
  {
   "metadata": {},
   "cell_type": "code",
   "outputs": [],
   "execution_count": null,
   "source": [
    "# 🧠 注册所有 attention 层 hook，打印输出 shape\n",
    "def make_hook(name):\n",
    "    def hook(module, input, output):\n",
    "        print(f\"[Hook] {name} output shape: {output.shape}\")\n",
    "    return hook\n",
    "\n",
    "for i, layer in enumerate(net.transformer.layers):\n",
    "    if hasattr(layer, 'attn'):\n",
    "        layer.attn.register_forward_hook(make_hook(f\"Layer-{i}-Attn\"))\n"
   ],
   "id": "c030e146e6fb2e92"
  },
  {
   "metadata": {},
   "cell_type": "code",
   "outputs": [],
   "execution_count": null,
   "source": [
    "# 🚀 执行一次 model_forward（前向传播）\n",
    "with torch.no_grad():\n",
    "    out = net.model_forward(\n",
    "        images=concat_img,\n",
    "        lr_imgs=lr_img,\n",
    "        sigmas=sigmas,\n",
    "        input_ids=None, position_ids=None, attention_mask=None\n",
    "    )\n",
    "    print(f\"[Final output shape] = {out.shape}\")\n"
   ],
   "id": "4590014b27bb397a"
  },
  {
   "metadata": {},
   "cell_type": "code",
   "outputs": [],
   "execution_count": null,
   "source": [
    "# 🏗️ 打印 Transformer 主体结构（层级）\n",
    "print(net.transformer)\n"
   ],
   "id": "7c813fdbd33a9196"
  },
  {
   "metadata": {},
   "cell_type": "code",
   "outputs": [],
   "execution_count": null,
   "source": [
    "# 🔍 选择第 0 层 Attention 结构展开看\n",
    "print(net.transformer.layers[0].attn)\n"
   ],
   "id": "dd963d8f084879d9"
  }
 ],
 "metadata": {
  "kernelspec": {
   "display_name": "Python 3",
   "language": "python",
   "name": "python3"
  },
  "language_info": {
   "codemirror_mode": {
    "name": "ipython",
    "version": 2
   },
   "file_extension": ".py",
   "mimetype": "text/x-python",
   "name": "python",
   "nbconvert_exporter": "python",
   "pygments_lexer": "ipython2",
   "version": "2.7.6"
  }
 },
 "nbformat": 4,
 "nbformat_minor": 5
}
